{
 "cells": [
  {
   "cell_type": "code",
   "execution_count": null,
   "id": "113f98f7-8ef1-4e88-abe4-e123bad364bb",
   "metadata": {},
   "outputs": [],
   "source": [
    "#6th Feb Assignment Solution (Task 2)"
   ]
  },
  {
   "cell_type": "code",
   "execution_count": null,
   "id": "6c038f94-ea22-4da0-8c38-7a850b30284e",
   "metadata": {},
   "outputs": [],
   "source": []
  },
  {
   "cell_type": "code",
   "execution_count": null,
   "id": "7552515e-4aa8-4f7a-80cf-26285a1e4f76",
   "metadata": {},
   "outputs": [],
   "source": [
    "#Ans 1:\n",
    "\n",
    "def password(s):\n",
    "    l, u, p, d = 0, 0, 0, 0\n",
    "    capitalalphabets=\"ABCDEFGHIJKLMNOPQRSTUVWXYZ\"\n",
    "    smallalphabets=\"abcdefghijklmnopqrstuvwxyz\"\n",
    "    specialchar=\"@#$%^&_\"\n",
    "    digits=\"0123456789\"\n",
    "    if (len(s) ==10):\n",
    "        for i in s:\n",
    "\n",
    "            # counting lowercase alphabets\n",
    "            if (i in smallalphabets):\n",
    "                l+=1\n",
    "\n",
    "            # counting uppercase alphabets\n",
    "            if (i in capitalalphabets):\n",
    "                u+=1\n",
    "\n",
    "            # counting digits\n",
    "            if (i in digits):\n",
    "                d+=1\n",
    "\n",
    "            # counting the mentioned special characters\n",
    "            if(i in specialchar):\n",
    "                p+=1\n",
    "    if (l>=2and u>=2and p>=3 and d>=1 and l+p+u+d==len(s)):\n",
    "        return(\"Valid Password\")\n",
    "    else:\n",
    "        return(\"Invalid Password\")\n",
    "\n",
    "        \n",
    "s=input('''Note: 1. The Password should contain at least two uppercase letters and at least two lowercase letters.\\n\n",
    "2. The Password should contain at least a number and three special characters(@#$%^&_).\\n\n",
    "3. The length of the password should be 10 characters long.\\n\n",
    "Enter your Password:''')        \n",
    "password(s)"
   ]
  },
  {
   "cell_type": "code",
   "execution_count": null,
   "id": "671b5a47-e201-4189-9844-07faebf799d7",
   "metadata": {},
   "outputs": [],
   "source": []
  },
  {
   "cell_type": "code",
   "execution_count": 7,
   "id": "245b6dd1-a80b-444e-b99c-6efde6907285",
   "metadata": {},
   "outputs": [
    {
     "name": "stdin",
     "output_type": "stream",
     "text": [
      "Enter the String: tr\n"
     ]
    },
    {
     "name": "stdout",
     "output_type": "stream",
     "text": [
      "String Given by you is 'tr' has started with the letter 'k':No\n",
      "String Given by you is 'tr' and it is Not a Numeric value\n",
      "Sorted list: [('grapes', 1000), ('mango', 99), ('orange', 80)]\n",
      "Square of the No. 1 to 10 is : [1, 4, 9, 16, 25, 36, 49, 64, 81, 100]\n",
      "Cuberoot of the No. 1 to 10 is : [1.0, 1.2599210498948734, 1.4422495703074083, 1.5874010519681996, 1.7099759466766968, 1.8171205928321394, 1.9129311827723894, 2.0, 2.080083823051904, 2.1544346900318834]\n"
     ]
    },
    {
     "name": "stdin",
     "output_type": "stream",
     "text": [
      "Enter the no:- 55\n"
     ]
    },
    {
     "name": "stdout",
     "output_type": "stream",
     "text": [
      "The Given No is : Odd\n",
      "The Odd Number in the given list are:- [1, 3, 5, 7, 9]\n",
      "The Positive Number in the given list are:- [1, 2, 3, 4, 5, 6]\n",
      "The Negative Number in the given list are:- [-1, -2, -3, -4, -5]\n"
     ]
    }
   ],
   "source": [
    "# Ans 2\n",
    "n = input(\"Enter the String:\")\n",
    "\n",
    "# 2.1\n",
    "p = lambda x: \"Yes\" if n[0].lower() == \"k\" else \"No\"\n",
    "print(f\"String Given by you is '{n}' has started with the letter 'k':{p(n)}\")\n",
    "\n",
    "# 2.2\n",
    "p2 = lambda x: \"a Numeric value\" if n.isnumeric() else \"Not a Numeric value\"\n",
    "print(f\"String Given by you is '{n}' and it is {p2(n)}\")\n",
    "\n",
    "\n",
    "# 2.3\n",
    "l = [(\"mango\", 99), (\"orange\", 80), (\"grapes\", 1000)]\n",
    "l.sort()\n",
    "print(\"Sorted list:\",l)\n",
    "\n",
    "\n",
    "#2.4\n",
    "l=[i for i in range(1,11)]\n",
    "print(\"Square of the No. 1 to 10 is :\",list(map(lambda x:x**2,l)))\n",
    "\n",
    "\n",
    "#2.5\n",
    "import numpy\n",
    "l=[i for i in range(1,11)]\n",
    "print(\"Cuberoot of the No. 1 to 10 is :\",list(map(lambda x:numpy.cbrt(x),l)))\n",
    "\n",
    "#2.6\n",
    "num=int(input(\"Enter the no:-\"))\n",
    "p6=lambda x: \"Even\" if num%2==0 else \"Odd\"\n",
    "print(\"The Given No is :\",p6(num))\n",
    "\n",
    "#2.7\n",
    "l=[1,2,3,4,5,6,7,8,9,10]\n",
    "print(\"The Odd Number in the given list are:-\",list(filter(lambda x: x if x%2!=0 else None ,l)))\n",
    "\n",
    "#2.8\n",
    "l=[1,2,3,4,5,6,-1,-2,-3,-4,-5,0]\n",
    "print(\"The Positive Number in the given list are:-\",list(filter(lambda x: x if x>0 else None ,l)))\n",
    "print(\"The Negative Number in the given list are:-\",list(filter(lambda x: x if x<0 else None ,l)))"
   ]
  },
  {
   "cell_type": "code",
   "execution_count": null,
   "id": "ce1a28a5-4ac4-48a0-9de5-b8d1dca1969a",
   "metadata": {},
   "outputs": [],
   "source": []
  },
  {
   "cell_type": "code",
   "execution_count": null,
   "id": "8b744899-240a-4c10-9520-570148e1a2f9",
   "metadata": {},
   "outputs": [],
   "source": []
  },
  {
   "cell_type": "code",
   "execution_count": null,
   "id": "020a9a70-2b78-4a0c-9429-d43e0953580f",
   "metadata": {},
   "outputs": [],
   "source": []
  }
 ],
 "metadata": {
  "kernelspec": {
   "display_name": "Python 3 (ipykernel)",
   "language": "python",
   "name": "python3"
  },
  "language_info": {
   "codemirror_mode": {
    "name": "ipython",
    "version": 3
   },
   "file_extension": ".py",
   "mimetype": "text/x-python",
   "name": "python",
   "nbconvert_exporter": "python",
   "pygments_lexer": "ipython3",
   "version": "3.10.8"
  }
 },
 "nbformat": 4,
 "nbformat_minor": 5
}
