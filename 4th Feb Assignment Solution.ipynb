{
 "cells": [
  {
   "cell_type": "code",
   "execution_count": null,
   "id": "6003b155-3f28-4907-87a5-35c3255afe15",
   "metadata": {},
   "outputs": [],
   "source": [
    "#4th Feb Assignment Solution"
   ]
  },
  {
   "cell_type": "code",
   "execution_count": null,
   "id": "ecb34615-e83e-420f-ad9b-769ea23e04e9",
   "metadata": {},
   "outputs": [],
   "source": [
    "#Ans 1\n",
    "\n",
    "l=[('Sachin Tendulkar', 34357), ('Ricky Ponting', 27483), ('Jack Kallis', 25534), ('Virat Kohli', 24936)]\n",
    "newList = sorted(l, key = lambda x : x[1])\n",
    "print(\"Reverse sorted list: \",newList)\n",
    "print(\"original list: \", l)"
   ]
  },
  {
   "cell_type": "code",
   "execution_count": null,
   "id": "4bc1dc2f-b271-4a75-b381-847ce144f177",
   "metadata": {},
   "outputs": [],
   "source": []
  },
  {
   "cell_type": "code",
   "execution_count": null,
   "id": "ab2001d4-4329-44c4-8426-827cc086f27c",
   "metadata": {},
   "outputs": [],
   "source": [
    "#Ans 2\n",
    "\n",
    "l1=[1,2,3,4,5,6,7,8,9,10]\n",
    "print(\"Square of the No's:-\",list(map(lambda x:x**2,l1)))\n"
   ]
  },
  {
   "cell_type": "code",
   "execution_count": null,
   "id": "d4ca1b88-06d2-41c7-87f0-4fd44db1e1c1",
   "metadata": {},
   "outputs": [],
   "source": []
  },
  {
   "cell_type": "code",
   "execution_count": null,
   "id": "522874ed-02f1-49cb-80aa-7eb6143f968d",
   "metadata": {},
   "outputs": [],
   "source": [
    "#Ans 3\n",
    "\n",
    "l1=[1,2,3,4,5,6,7,8,9,10]\n",
    "print(\"Expected output:\",tuple(map(lambda x:str(x),l1)))\n"
   ]
  },
  {
   "cell_type": "code",
   "execution_count": null,
   "id": "cae17c31-27b3-432b-93f3-bc6a009b680f",
   "metadata": {},
   "outputs": [],
   "source": []
  },
  {
   "cell_type": "code",
   "execution_count": 19,
   "id": "8c708011-909f-4e92-a40e-4a05811ccceb",
   "metadata": {},
   "outputs": [
    {
     "name": "stdout",
     "output_type": "stream",
     "text": [
      "Factorial of 25 is :-15511210043330985984000000\n"
     ]
    }
   ],
   "source": [
    "#Ans 4\n",
    "\n",
    "from functools import  reduce\n",
    "n=25\n",
    "l=[i for i in range(1,n+1)]\n",
    "print(\"Factorial of {} is :-{}\".format(n,reduce(lambda x,y : x*y,l)))\n"
   ]
  },
  {
   "cell_type": "code",
   "execution_count": null,
   "id": "dee40c79-4642-48e6-9974-3dfd37ca4647",
   "metadata": {},
   "outputs": [],
   "source": []
  },
  {
   "cell_type": "code",
   "execution_count": 25,
   "id": "1ac68abb-9b63-454f-8660-57182c7ec9ea",
   "metadata": {},
   "outputs": [
    {
     "name": "stdout",
     "output_type": "stream",
     "text": [
      "list that are divisible by 2 and 3 using the filter function:- [6, 60, 90, 120]\n"
     ]
    }
   ],
   "source": [
    "#Ans 5\n",
    "\n",
    "from functools import  reduce\n",
    "l=[2, 3, 6, 9, 27, 60, 90, 120, 55, 46]\n",
    "print(\"list that are divisible by 2 and 3 using the filter function:-\",list(filter(lambda x : x%2==0 and x%3==0,l)))\n"
   ]
  },
  {
   "cell_type": "code",
   "execution_count": null,
   "id": "7a3e6160-7293-4fd3-a003-92b0783842ca",
   "metadata": {},
   "outputs": [],
   "source": []
  },
  {
   "cell_type": "code",
   "execution_count": 28,
   "id": "2b7be722-5608-4c91-a1b6-882e671a5d02",
   "metadata": {},
   "outputs": [
    {
     "name": "stdout",
     "output_type": "stream",
     "text": [
      "Palindrome Strings given in the list are:- ['php', 'aba', 'radar', 'level']\n"
     ]
    }
   ],
   "source": [
    "#Ans 6\n",
    "\n",
    "l=['python', 'php', 'aba', 'radar', 'level']\n",
    "p=list(filter(lambda i : i==i[::-1],l))\n",
    "print(\"Palindrome Strings given in the list are:-\",p)\n"
   ]
  },
  {
   "cell_type": "code",
   "execution_count": null,
   "id": "b1fcf35d-9859-4dac-ae9e-afce7fc61a73",
   "metadata": {},
   "outputs": [],
   "source": []
  }
 ],
 "metadata": {
  "kernelspec": {
   "display_name": "Python 3 (ipykernel)",
   "language": "python",
   "name": "python3"
  },
  "language_info": {
   "codemirror_mode": {
    "name": "ipython",
    "version": 3
   },
   "file_extension": ".py",
   "mimetype": "text/x-python",
   "name": "python",
   "nbconvert_exporter": "python",
   "pygments_lexer": "ipython3",
   "version": "3.10.8"
  }
 },
 "nbformat": 4,
 "nbformat_minor": 5
}
