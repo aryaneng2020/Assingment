{
 "cells": [
  {
   "cell_type": "code",
   "execution_count": null,
   "id": "886803b1-c29a-45c9-ac75-2c43a7ed2bcf",
   "metadata": {},
   "outputs": [],
   "source": [
    "#Task 1 6th Feb Assignment Solution"
   ]
  },
  {
   "cell_type": "code",
   "execution_count": null,
   "id": "135ea06f-49da-4a8e-845a-26749c13d18b",
   "metadata": {},
   "outputs": [],
   "source": [
    "#Ans 1:\n",
    "\n",
    "def flatten_list(l1):\n",
    "    result_list = []\n",
    "    if not l1: return result_list\n",
    "    \n",
    "    stack = [list(l1)]\n",
    "    \n",
    "    while stack:\n",
    "        c_num = stack.pop()\n",
    "        next = c_num.pop()\n",
    "        if c_num: \n",
    "            stack.append(c_num)\n",
    "        if isinstance(next, tuple):\n",
    "            if next:\n",
    "                stack.append(list(next))\n",
    "        elif isinstance(next, set):\n",
    "            if next:\n",
    "                stack.append(list(next))\n",
    "                \n",
    "        elif isinstance(next, list):\n",
    "            if next:\n",
    "                stack.append(list(next))\n",
    "        else: \n",
    "            result_list.append(next)\n",
    "    result_list.reverse()\n",
    "    return result_list \n",
    "\n",
    "l1 = [1,2,3,4, [44,55,66, True], False, (34,56,78,89,34), {1,2,3,3,2,1}, {1:34, \"key2\": [55, 67, 78, 89], 4: (45,\n",
    "22, 61, 34)}, [56, 'data science'], 'Machine Learning']\n",
    "print(\"Original list:\") \n",
    "print(l1)\n",
    "final=flatten_list(l1)\n",
    "\n",
    "empty=[]\n",
    "for i in final:\n",
    "    \n",
    "    if type(i)==dict:\n",
    "        for item in i.items():\n",
    "            empty.append(item[0]), empty.append(item[1])\n",
    "        h=final.index(i)\n",
    "        final.pop(h)\n",
    "final1=final+empty   \n",
    "fnl2=flatten_list(final1)\n",
    "print(\"\\nFlatten list:\",fnl2)\n",
    "\n",
    "sum=1\n",
    "for i in fnl2:\n",
    "    if type(i)==int:\n",
    "        sum=sum*i\n",
    "print(\"\\nThe product of all the numbers after creating a flat list :-\",sum) "
   ]
  },
  {
   "cell_type": "code",
   "execution_count": null,
   "id": "b6d05c73-c878-424f-9c69-fa7c6e2a9195",
   "metadata": {},
   "outputs": [],
   "source": []
  },
  {
   "cell_type": "code",
   "execution_count": 5,
   "id": "eb6cb82e-8d7e-44b5-bf07-a8dd16b065cc",
   "metadata": {},
   "outputs": [
    {
     "name": "stdout",
     "output_type": "stream",
     "text": [
      "The Encrypted message is :-\"r$dzmg$gl$yvxlnv$z$wzgz$hxrvmgrhg.\"\n"
     ]
    }
   ],
   "source": [
    "#Ans 2\n",
    "\n",
    "def encryption(ip):\n",
    "    for char in range(len(ip)):\n",
    "        if ip[char] in alphabets:\n",
    "            #print(ip[char])\n",
    "            #print(alphabets.index(ip[char]))\n",
    "            p=25-alphabets.index(ip[char])\n",
    "            #print(\"op:\",alphabets[p])\n",
    "            op.append(str(alphabets[p]))\n",
    "            continue\n",
    "        if ip[char].isspace():\n",
    "            op.append(\"$\")\n",
    "            continue\n",
    "\n",
    "        else:\n",
    "            op.append(ip[char])\n",
    "        \n",
    " \n",
    "        # using list comprehension\n",
    "        listToStr = ''.join([str(elem) for elem in op])\n",
    "           \n",
    "    return listToStr\n",
    "alphabets=['a', 'b', 'c', 'd', 'e', 'f', 'g', 'h', 'i', 'j', 'k', 'l','m', 'n', 'o', 'p', 'q', 'r', 's', 't', 'u', 'v', 'w', 'x', 'y', 'z']\n",
    "op=[]\n",
    "ip_Sent = \"I want to become a Data Scientist.\"\n",
    "ip=ip_Sent.lower()\n",
    "print(f'''The Encrypted message is :-\"{encryption(ip)}\"''')\n",
    "\n",
    "\n"
   ]
  },
  {
   "cell_type": "code",
   "execution_count": null,
   "id": "e7aae25d-b1a5-4095-b148-e17e30704f74",
   "metadata": {},
   "outputs": [],
   "source": []
  }
 ],
 "metadata": {
  "kernelspec": {
   "display_name": "Python 3 (ipykernel)",
   "language": "python",
   "name": "python3"
  },
  "language_info": {
   "codemirror_mode": {
    "name": "ipython",
    "version": 3
   },
   "file_extension": ".py",
   "mimetype": "text/x-python",
   "name": "python",
   "nbconvert_exporter": "python",
   "pygments_lexer": "ipython3",
   "version": "3.10.8"
  }
 },
 "nbformat": 4,
 "nbformat_minor": 5
}
