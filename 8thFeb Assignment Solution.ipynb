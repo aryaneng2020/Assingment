{
 "cells": [
  {
   "cell_type": "code",
   "execution_count": null,
   "id": "6c968729-7d4a-431e-b6ca-1af0c07123ec",
   "metadata": {},
   "outputs": [],
   "source": [
    "# 08 Feb_Assignment solution"
   ]
  },
  {
   "cell_type": "code",
   "execution_count": null,
   "id": "52bf004a-2da4-491d-9efc-f9321cd0177c",
   "metadata": {},
   "outputs": [],
   "source": [
    "# Ans 1\n",
    "\"\"\"In Python, abstraction can be achieved by using abstract classes and interfaces.\n",
    "\n",
    "A class that consists of one or more abstract method is called the abstract class.\n",
    "Abstract methods do not contain their implementation.\n",
    "Abstract class can be inherited by the subclass and abstract method gets its definition in the subclass.\n",
    "Abstraction classes are meant to be the blueprint of the other class.\n",
    "An abstract class can be useful when we are designing large functions.\n",
    "An abstract class is also helpful to provide the standard interface for different implementations of components.\n",
    "\"\"\"\n",
    "from abc import ABC, abstractmethod\n",
    "\n",
    "\n",
    "class Car(ABC):\n",
    "    def mileage(self):\n",
    "        pass\n",
    "\n",
    "\n",
    "class Tesla(Car):\n",
    "    def mileage(self):\n",
    "        print(\"The mileage is 30kmph\")\n",
    "\n",
    "\n",
    "class Suzuki(Car):\n",
    "    def mileage(self):\n",
    "        print(\"The mileage is 25kmph \")\n",
    "\n",
    "\n",
    "class Duster(Car):\n",
    "    def mileage(self):\n",
    "        print(\"The mileage is 24kmph \")\n",
    "\n",
    "\n",
    "class Renault(Car):\n",
    "    def mileage(self):\n",
    "        print(\"The mileage is 27kmph \")\n",
    "\n",
    "\n",
    "# Driver code\n",
    "\n",
    "t = Tesla()\n",
    "t.mileage()\n",
    "\n",
    "r = Renault()\n",
    "r.mileage()\n",
    "\n",
    "s = Suzuki()\n",
    "s.mileage()\n",
    "d = Duster()\n",
    "d.mileage()\n"
   ]
  },
  {
   "cell_type": "code",
   "execution_count": null,
   "id": "54aa5c90-610b-41f4-bb9b-8033f3e6e15c",
   "metadata": {},
   "outputs": [],
   "source": []
  },
  {
   "cell_type": "code",
   "execution_count": null,
   "id": "edcc06f2-a965-4d18-9eeb-939e7c76a64e",
   "metadata": {},
   "outputs": [],
   "source": [
    "# Ans 2\n",
    "'''Abstraction is a method of removing the unnecessary details in the code and focusing on the relevant parts. \n",
    "For example, instead of writing a function that multiplies two numbers, \n",
    "we can write a function “multiply” and use it to multiply any number with any number.\n",
    "Abstraction is a way of representing some specific data. \n",
    "Encapsulation is a way of hiding the complexity of something and exposing only the parts you wish to expose.\n",
    "For example, if you have a class that has one or more private fields that you use to store the data, \n",
    "then you are in encapsulation. \n",
    "The class contains the data and has methods that expose the public data.'''\n"
   ]
  },
  {
   "cell_type": "code",
   "execution_count": null,
   "id": "12fce4ac-6ff8-4176-8b98-2a16b0c14f47",
   "metadata": {},
   "outputs": [],
   "source": []
  },
  {
   "cell_type": "code",
   "execution_count": null,
   "id": "290c39b0-17b4-4748-8294-00be0786f778",
   "metadata": {},
   "outputs": [],
   "source": [
    "# Ans 3\n",
    "'''The 'abc' module in Python library provides the infrastructure for defining custom abstract base classes.\n",
    "'abc' works by marking methods of the base class as abstract. \n",
    "This is done by @absttractmethod decorator.\n",
    "\n",
    "This module provides the infrastructure for defining abstract base classes (ABCs) in Python.\n",
    "'''\n"
   ]
  },
  {
   "cell_type": "code",
   "execution_count": null,
   "id": "3d444ae5-b863-4143-8ea3-6ef618273db2",
   "metadata": {},
   "outputs": [],
   "source": []
  },
  {
   "cell_type": "code",
   "execution_count": null,
   "id": "0ee0fc0e-39f5-426f-b782-fdcc2dd2307f",
   "metadata": {},
   "outputs": [],
   "source": [
    "# Ans 4\n",
    "'''Data Abstraction in Python can be achieved through creating abstract classes and inheriting them later. \n",
    "Before discussing what abstract classes are, let us have a brief introduction of inheritance. \n",
    "Inheritance in OOP is a way through which one class inherits the attributes and methods of another class.\n",
    "\n",
    "'''\n"
   ]
  },
  {
   "cell_type": "code",
   "execution_count": null,
   "id": "4260d2cc-4c32-4c9f-81a1-0b3b1d0df645",
   "metadata": {},
   "outputs": [],
   "source": []
  },
  {
   "cell_type": "code",
   "execution_count": null,
   "id": "7c0c3cdb-e90b-43c1-926f-9c84d9599452",
   "metadata": {},
   "outputs": [],
   "source": [
    "# Ans 5\n",
    "'''Abstract classes are not complete, as they may have some methods that are not defined. \n",
    "So we cannot create an instance or object of an abstract class in Python,\n",
    "as it does not have any complete implementation.\n",
    "An abstract class acts like a template or an empty structure.\n",
    "For an abstract class in the OOP paradigm, we cannot instantiate it.\n",
    "'''\n"
   ]
  },
  {
   "cell_type": "code",
   "execution_count": null,
   "id": "4a55e36c-c578-4812-be5a-fdf8453ea9e2",
   "metadata": {},
   "outputs": [],
   "source": []
  }
 ],
 "metadata": {
  "kernelspec": {
   "display_name": "Python 3 (ipykernel)",
   "language": "python",
   "name": "python3"
  },
  "language_info": {
   "codemirror_mode": {
    "name": "ipython",
    "version": 3
   },
   "file_extension": ".py",
   "mimetype": "text/x-python",
   "name": "python",
   "nbconvert_exporter": "python",
   "pygments_lexer": "ipython3",
   "version": "3.10.8"
  }
 },
 "nbformat": 4,
 "nbformat_minor": 5
}
