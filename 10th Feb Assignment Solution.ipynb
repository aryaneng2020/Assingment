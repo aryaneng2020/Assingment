{
 "cells": [
  {
   "cell_type": "code",
   "execution_count": null,
   "id": "9c553d1d-412c-43c5-9179-5c4559a9e4b4",
   "metadata": {},
   "outputs": [],
   "source": [
    "#10th Feb Assignment Solution"
   ]
  },
  {
   "cell_type": "code",
   "execution_count": null,
   "id": "63d037e6-3dce-4b32-a975-d68376ede71c",
   "metadata": {},
   "outputs": [],
   "source": [
    "#Ans 1\n",
    "The open() function opens a file, and returns it as a file object.\n",
    "\n",
    "Different Modes to Open a File in Python\n",
    "Mode    Description\n",
    "r       Open a file for reading. (default)\n",
    "w       Open a file for writing. Creates a new file if it does not exist or truncates the file if it exists.\n",
    "x       Open a file for exclusive creation. If the file already exists, the operation fails.\n",
    "a       Open a file for appending at the end of the file without truncating it. Creates a new file if it does not exist.\n",
    "t       Open in text mode. (default)\n",
    "b       Open in binary mode.\n",
    "+       Open a file for updating (reading and writing)"
   ]
  },
  {
   "cell_type": "code",
   "execution_count": null,
   "id": "23c1f52a-5dd7-4291-85d7-0de2c40981a3",
   "metadata": {},
   "outputs": [],
   "source": []
  },
  {
   "cell_type": "code",
   "execution_count": null,
   "id": "63926214-a911-4c73-a178-86f17892aec9",
   "metadata": {},
   "outputs": [],
   "source": [
    "#Ans 2\n",
    "'''\n",
    "Python File close() Method\n",
    "The close() method closes an open file. You should always close your files, in some cases,\n",
    "due to buffering, changes made to a file may not show until you close the file.\n",
    "\n",
    "Closing files in Python is important because it releases the resources that were being used by the file. \n",
    "When a file is opened, the operating system allocates resources to keep track of the file's location and state.\n",
    "When you are done working with a file in Python, it's important to close it so that these resources can be freed up \n",
    "for other programs to use.\n",
    "Additionally, closing a file also ensures that any changes you made to the file are saved properly,\n",
    "and if you don't close the file, you might lose your changes.'''"
   ]
  },
  {
   "cell_type": "code",
   "execution_count": null,
   "id": "b0d8d0db-e42d-4a52-9a00-fac2f28ce2d2",
   "metadata": {},
   "outputs": [],
   "source": []
  },
  {
   "cell_type": "code",
   "execution_count": null,
   "id": "b7b2c220-1105-4c40-b1fc-2139f38926af",
   "metadata": {},
   "outputs": [],
   "source": [
    "#Ans 3\n",
    "f=open(\"file1.txt\",\"w\")\n",
    "f.write(\"I want to become a Data Scientist\")\n",
    "f.close()\n",
    "\n",
    "f=open(\"file1.txt\",\"r\")\n",
    "print(f.read())"
   ]
  },
  {
   "cell_type": "code",
   "execution_count": null,
   "id": "c1da49fa-be26-421a-8332-c39ce236ab71",
   "metadata": {},
   "outputs": [],
   "source": []
  },
  {
   "cell_type": "code",
   "execution_count": null,
   "id": "2027ee4e-a5ca-4b64-b0b4-2ddb0837db57",
   "metadata": {},
   "outputs": [],
   "source": [
    "#Ans 4\n",
    "\n",
    "f=open(\"Example1.txt\",\"w\")\n",
    "f.write('''India, officially the Republic of India (ISO: Bhārat Gaṇarājya),[25] is a country in South Asia.\n",
    "It is the seventh-largest country by area, the most populous country in the world,\n",
    "and the most populous democracy.[26][27] Bounded by the Indian Ocean on the south, \n",
    "the Arabian Sea on the southwest, and the Bay of Bengal on the southeast, \n",
    "it shares land borders with Pakistan to the west;[j] China, Nepal, and Bhutan to the north; \n",
    "and Bangladesh and Myanmar to the east. In the Indian Ocean, India is in the vicinity of Sri Lanka and the Maldives; \n",
    "its Andaman and Nicobar Islands share a maritime border with Thailand, Myanmar, and Indonesia.''')\n",
    "f.close()\n",
    "\n",
    "#readline\n",
    "file = open(\"Example1.txt\", \"r\")\n",
    "example1 = file.readline()\n",
    "print(\"Example 1 of readline:\",example1)\n",
    "example2 = file.readline(14)\n",
    "print(\"Example 2 of readline:\",example2)\n",
    "print(\"\")\n",
    "\n",
    "#readlines\n",
    "example1 = file.readlines()\n",
    "print(\"Example of readlines:\",example1)\n",
    "file = open(\"Example1.txt\", \"r\")\n",
    "print(\"\")\n",
    "\n",
    "\n",
    "file = open(\"Example1.txt\", \"r\")\n",
    "#read\n",
    "ex1=file.read()\n",
    "print(\"Example of read:\",ex1)\n"
   ]
  },
  {
   "cell_type": "code",
   "execution_count": null,
   "id": "886e429f-5c4c-4f8c-9757-05d0e5b00b68",
   "metadata": {},
   "outputs": [],
   "source": []
  },
  {
   "cell_type": "code",
   "execution_count": null,
   "id": "1a60cc54-5519-4b77-984f-7ad3c6cc8d77",
   "metadata": {},
   "outputs": [],
   "source": [
    "#Ans 5\n",
    "The with statement works with the open() function to open a file.\n",
    "Unlike open() where you have to close the file with the close() method, \n",
    "the with statement closes the file for you without you telling it to.\n",
    "This is because the with statement calls 2 built-in methods behind the scene – __enter()__ and __exit()__ ."
   ]
  },
  {
   "cell_type": "code",
   "execution_count": null,
   "id": "d97e2fb4-02fb-46c3-8f3e-0792f3a87111",
   "metadata": {},
   "outputs": [],
   "source": []
  },
  {
   "cell_type": "code",
   "execution_count": null,
   "id": "48f5b654-052b-4cfe-b729-acaf676da3b0",
   "metadata": {},
   "outputs": [],
   "source": [
    "#Ans 6\n",
    "'''\n",
    "Write() function\n",
    "\n",
    "The write() function will write the content in the file without adding any extra characters.\n",
    "\n",
    "Syntax: \n",
    "\n",
    "# Writes string content referenced by file object.\n",
    "file_name.write(content) \n",
    "\n",
    "As per the syntax, the string that is passed to the write() function is written into the opened file. \n",
    "The string may include numbers, special characters, or symbols.\n",
    "While writing data to a file, we must know that the write function does not \n",
    "add a newline character(\\n) to the end of the string. The write() function returns None.\n",
    "'''\n",
    "#Example:\n",
    "\n",
    "file = open(\"Employees.txt\", \"w\")\n",
    "\n",
    "for i in range(3):\n",
    "    name = input(\"Enter the name of the employee: \")\n",
    "    file.write(name)\n",
    "    file.write(\"\\n\")\n",
    "\n",
    "file.close()\n",
    "\n",
    "print(\"Data is written into the file.\")\n",
    "\n",
    "'''\n",
    "Writelines() function\n",
    "\n",
    "This function writes the content of a list to a file.\n",
    "\n",
    "Syntax:   \n",
    "\n",
    "# write all the strings present in the list \"list_of_lines\" \n",
    "# referenced by file object.\n",
    "file_name.writelines(list_of_lines)\n",
    "\n",
    "As per the syntax, the list of strings that is passed to the writelines()\n",
    "function is written into the opened file. Similar to the write() function, \n",
    "the writelines() function does not add a newline character(\\n) to the end of the string.\n",
    "'''\n",
    "#Example:\n",
    "file1 = open(\"Employees1.txt\", \"w\")\n",
    "lst = []\n",
    "for i in range(3):\n",
    "    name = input(\"Enter the name of the employee: \")\n",
    "    lst.append(name + '\\n')\n",
    "\n",
    "file1.writelines(lst)\n",
    "file1.close()\n",
    "print(\"Data is written into the file.\")\n"
   ]
  },
  {
   "cell_type": "code",
   "execution_count": null,
   "id": "5ba8aee1-8a23-434e-8a06-edbcff3aeb7c",
   "metadata": {},
   "outputs": [],
   "source": []
  }
 ],
 "metadata": {
  "kernelspec": {
   "display_name": "Python 3 (ipykernel)",
   "language": "python",
   "name": "python3"
  },
  "language_info": {
   "codemirror_mode": {
    "name": "ipython",
    "version": 3
   },
   "file_extension": ".py",
   "mimetype": "text/x-python",
   "name": "python",
   "nbconvert_exporter": "python",
   "pygments_lexer": "ipython3",
   "version": "3.10.8"
  }
 },
 "nbformat": 4,
 "nbformat_minor": 5
}
