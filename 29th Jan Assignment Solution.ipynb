{
 "cells": [
  {
   "cell_type": "code",
   "execution_count": null,
   "id": "32dbb49b-8497-48ad-974d-6b5f6ff4b48d",
   "metadata": {
    "tags": []
   },
   "outputs": [],
   "source": [
    "Ans 1 : Python Programing language was developed by \n",
    "Dutch Programmer named Guido van Rossum."
   ]
  },
  {
   "cell_type": "code",
   "execution_count": null,
   "id": "ddfb777e",
   "metadata": {},
   "outputs": [],
   "source": [
    "Ans 2: Python is an \n",
    "Interpreted programming language, \n",
    "Supporting Object-Oriented, \n",
    "Structured, and \n",
    "Functional programming."
   ]
  },
  {
   "cell_type": "code",
   "execution_count": null,
   "id": "fd5d1024-0280-495f-8832-c030b609425e",
   "metadata": {},
   "outputs": [],
   "source": [
    "Ans 3: Yes, Python is a case−sensitive programming language. \n",
    "Uppercase and lowercase Letters  \n",
    "are consider differently."
   ]
  },
  {
   "cell_type": "code",
   "execution_count": null,
   "id": "170da58c-6de2-49ed-bbc0-dea3d64f05c2",
   "metadata": {},
   "outputs": [],
   "source": [
    "Ans 4:  The extensions for Python files are - \n",
    ".py, .pyi, .pyc, .pyd, .pyo, .pyw, and .pyz."
   ]
  },
  {
   "cell_type": "code",
   "execution_count": null,
   "id": "b958b5d7-0b1e-4eb7-ae6b-574d8d316a31",
   "metadata": {},
   "outputs": [],
   "source": [
    "Ans 5: Python code Interpreted."
   ]
  },
  {
   "cell_type": "code",
   "execution_count": null,
   "id": "2a9f259f-de66-4c7f-8368-ffcd5b4ba9eb",
   "metadata": {
    "tags": []
   },
   "outputs": [],
   "source": [
    "Ans 6: The following are 3 blocks:\n",
    "   1.  Module, \n",
    "   2.  Function body, and \n",
    "   3.  Class definition."
   ]
  },
  {
   "cell_type": "code",
   "execution_count": null,
   "id": "4f219b8a-87ff-43a7-92db-d60a7393ee96",
   "metadata": {},
   "outputs": [],
   "source": [
    "Ans 7: # Character is used to give single line comments in python "
   ]
  },
  {
   "cell_type": "code",
   "execution_count": null,
   "id": "be6822b3-431e-490f-893a-f8bde67a4baa",
   "metadata": {},
   "outputs": [],
   "source": [
    "Ans 8: The function sys. version \n",
    "can help us to find the version of python \n",
    "that we are currently working on."
   ]
  },
  {
   "cell_type": "code",
   "execution_count": null,
   "id": "23d0c673-9d6a-46d0-bebb-9cb8ee11f9ac",
   "metadata": {},
   "outputs": [],
   "source": [
    "Ans 9: Python supports the creation of anonymous functions\n",
    "at runtime using a construct called Lambda Function."
   ]
  },
  {
   "cell_type": "code",
   "execution_count": null,
   "id": "560d93c6-b5a8-472e-bc82-78dcfa6ff231",
   "metadata": {},
   "outputs": [],
   "source": [
    "Ans 10: \"pip\" stands for \"Pip Installs Packages\""
   ]
  },
  {
   "cell_type": "code",
   "execution_count": null,
   "id": "e3e6b0fa-b6c8-45a8-bbe3-6d2d6fad6fa3",
   "metadata": {},
   "outputs": [],
   "source": [
    "Ans 11: Some of the most useful functions in Python are \n",
    "print(),\n",
    "abs(),\n",
    "round(),\n",
    "min(), \n",
    "max(),\n",
    "sorted(), \n",
    "sum(), and \n",
    "len()."
   ]
  },
  {
   "cell_type": "code",
   "execution_count": null,
   "id": "b1179c67-0014-49bd-b1ad-8ba6b1bc00ab",
   "metadata": {},
   "outputs": [],
   "source": [
    "Ans 12: An identifier can have a maximum length of 79 characters in Python."
   ]
  },
  {
   "cell_type": "code",
   "execution_count": null,
   "id": "f5045d4e-afa8-4ed7-9844-a396c165b433",
   "metadata": {},
   "outputs": [],
   "source": [
    "Ans 13: These are the following Advantages of the python :-\n",
    "1.Free and Open-Source. Video Player is loading. ...\n",
    "2.Productivity has Increased. ...\n",
    "3.Interpreted Language. ...\n",
    "4.Extensive library. ...\n",
    "5.Dynamically Typed. ...\n",
    "6.Portability. ...\n",
    "7.Supportive community."
   ]
  },
  {
   "cell_type": "code",
   "execution_count": null,
   "id": "6d63f48f-b538-4d44-8614-ab35773e0b8e",
   "metadata": {},
   "outputs": [],
   "source": [
    "Ans 14: Memory management in Python involves a private heap containing all Python objects and data structures. \n",
    "Interpreter takes care of Python heap and that the programmer has no access to it.\n",
    "The allocation of heap space for Python objects is done by Python memory manager. \n",
    "The core API of Python provides some tools for the programmer to code rellable and more robust program. \n",
    "Python also has a build-in garbage collector which recycles all the unused memory. \n",
    "When an object is no longer referenced by the program, the heap space it occupies can be freed. \n",
    "The garbage collector determines objects which are no longer referenced by the program frees the occupied memory and\n",
    "make it available to the heap space.\n",
    "\n",
    "The ge module defines functions to enable/disable garbage collector:\n",
    "gc.enable()-Enables automatic garbage collection.\n",
    "ge.disable() Disables automatic garbage collection"
   ]
  },
  {
   "cell_type": "code",
   "execution_count": null,
   "id": "b439452a-0e01-4155-a58a-efa63fc94a15",
   "metadata": {},
   "outputs": [],
   "source": [
    "Ans 15: \n",
    "    \n",
    "1.To download Python, you need to visit www.python.org, which is the official Python website.\n",
    "Click on the Downloads tab and then select the Windows option\n",
    "    \n",
    "The complete path of python.exe can be added by:\n",
    "\n",
    "2.Right-clicking This PC and going to Properties.\n",
    "\n",
    "3.Clicking on the Advanced system settings in the menu on the left.\n",
    "\n",
    "4.Clicking on the Environment Variables button o​n the bottom right.\n",
    "\n",
    "5.In the System variables section, selecting the Path variable and clicking on Edit. \n",
    "The next screen will show all the directories that are currently a part of the PATH variable.\n",
    "\n",
    "6.Clicking on New and entering Python’s install directory.\n",
    "\n",
    "Python can now be used directly from the command prompt without having to write its location. \n",
    "Try executing the command python --version; it will output the version of Python installed on your system.\n",
    "\n",
    "Usually you can find the python installed binary in this\n",
    "path location: C:\\Users\\Educative\\AppData\\Local\\Programs\\Python\\Python39"
   ]
  },
  {
   "cell_type": "code",
   "execution_count": null,
   "id": "60ccfb83-a74c-4690-a314-1a05af9f5017",
   "metadata": {},
   "outputs": [],
   "source": [
    "Ans 16: Indentation is mandatory in python to define the blocks of statements."
   ]
  }
 ],
 "metadata": {
  "kernelspec": {
   "display_name": "Python 3 (ipykernel)",
   "language": "python",
   "name": "python3"
  },
  "language_info": {
   "codemirror_mode": {
    "name": "ipython",
    "version": 3
   },
   "file_extension": ".py",
   "mimetype": "text/x-python",
   "name": "python",
   "nbconvert_exporter": "python",
   "pygments_lexer": "ipython3",
   "version": "3.10.8"
  }
 },
 "nbformat": 4,
 "nbformat_minor": 5
}
