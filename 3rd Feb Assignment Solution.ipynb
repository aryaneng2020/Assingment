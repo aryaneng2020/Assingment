{
 "cells": [
  {
   "cell_type": "code",
   "execution_count": null,
   "id": "b539efee-c4ba-4c5a-b959-d6f231905838",
   "metadata": {},
   "outputs": [],
   "source": [
    "# 3rd Feb Assignment Solution"
   ]
  },
  {
   "cell_type": "code",
   "execution_count": null,
   "id": "3b4e6d9c-7041-44d6-bec9-aa2f747f41dc",
   "metadata": {},
   "outputs": [],
   "source": [
    "#Ans 1\n",
    "\n",
    "#'def' is the Keyword  used to create a  Function.\n",
    "\n",
    "\n",
    "def Odd_no(n):\n",
    "    l=[]\n",
    "    for i in n:\n",
    "        if i%2!=0:\n",
    "            l.append(i)\n",
    "    return l    \n",
    "\n",
    "n=range(1,25)\n",
    "Odd_no(n)"
   ]
  },
  {
   "cell_type": "code",
   "execution_count": null,
   "id": "3b388c99-25f3-45ad-b366-29f0f9c6b7aa",
   "metadata": {},
   "outputs": [],
   "source": []
  },
  {
   "cell_type": "code",
   "execution_count": null,
   "id": "593f4714-ddd3-4ed4-a99e-3deb0d25f5f0",
   "metadata": {},
   "outputs": [],
   "source": [
    "#Ans 2\n",
    "\n",
    "# We use *args and **kwargs as an argument when we are unsure about the number of arguments to pass in the functions.\n",
    "\n",
    "# Use of *args (Non Keyword Arguments)\n",
    "\n",
    "def adder(*num):\n",
    "    sum = 0\n",
    "    \n",
    "    for n in num:\n",
    "        sum = sum + n\n",
    "\n",
    "    print(\"Sum:\",sum)\n",
    "\n",
    "adder(3,5)\n",
    "adder(4,5,6,7)\n",
    "adder(1,2,3,5,6)\n",
    "\n",
    "# Use of **kwargs (Keyword Arguments)\n",
    "\n",
    "def intro(**data):\n",
    "    print(\"\\nData type of argument:\",type(data))\n",
    "\n",
    "    for key, value in data.items():\n",
    "        print(\"{} is {}\".format(key,value))\n",
    "\n",
    "intro(Firstname=\"Sita\", Lastname=\"Sharma\", Age=22, Phone=1234567890)\n",
    "intro(Firstname=\"John\", Lastname=\"Wood\", Email=\"john*****@nomail.com\", Country=\"Wakanda\", Age=25, Phone=9876500000)"
   ]
  },
  {
   "cell_type": "code",
   "execution_count": null,
   "id": "711ebacc-9335-4abb-b853-bb0310880da9",
   "metadata": {},
   "outputs": [],
   "source": []
  },
  {
   "cell_type": "code",
   "execution_count": null,
   "id": "6e4056e9-b4df-4249-ac75-a6df4f0d6b35",
   "metadata": {},
   "outputs": [],
   "source": [
    "#Ans 3\n",
    "'''An iterator is an object that contains a countable number of values.\n",
    "An iterator is an object that can be iterated upon, meaning that you can traverse through all the values. \n",
    "Technically, in Python, an iterator is an object which implements the iterator protocol, \n",
    "which consist of the methods __iter__() and __next__() .'''\n",
    "\n",
    "l=[2,4,6,8,10,12,14,16,18,20]\n",
    "p=iter(l)\n",
    "print(p.__next__())\n",
    "print(p.__next__())\n",
    "print(p.__next__())\n",
    "print(p.__next__())\n",
    "print(p.__next__())\n",
    "\n",
    "#Another Method \n",
    "\n",
    "print(next(p))\n",
    "print(next(p))\n",
    "print(next(p))\n",
    "print(next(p))\n",
    "print(next(p))"
   ]
  },
  {
   "cell_type": "code",
   "execution_count": null,
   "id": "f28f9f93-46a2-4b73-acae-3a1e69b5914e",
   "metadata": {},
   "outputs": [],
   "source": []
  },
  {
   "cell_type": "code",
   "execution_count": null,
   "id": "6e2d9c5e-a314-45be-8e89-ff261e41684b",
   "metadata": {},
   "outputs": [],
   "source": [
    "#Ans 4\n",
    "'''In Python, a generator is a function that returns \n",
    "an iterator that produces a sequence of values when iterated over. \n",
    "Generators are useful when we want to produce a large sequence of values,\n",
    "but we don't want to store all of them in memory at once.'''\n",
    "\n",
    "''' The yield keyword in Python controls the flow of a generator function. \n",
    "This is similar to a return statement used for returning values in Python.'''\n",
    "\n",
    "def my_gen():\n",
    "    n=1\n",
    "    print(\"This is printed first\")\n",
    "    yield n\n",
    "    n+=1\n",
    "    print(\"This is printed second\")\n",
    "    yield n\n",
    "    n+=1\n",
    "    print(\"This is printed last\")\n",
    "    yield n\n",
    "x=my_gen()\n",
    "\n",
    "print(x.__next__())\n",
    "print(x.__next__())\n",
    "print(x.__next__())\n",
    "\n",
    "for i in my_gen():\n",
    "    print(i)\n"
   ]
  },
  {
   "cell_type": "code",
   "execution_count": null,
   "id": "afe043b5-c371-46c3-acaf-0c5f168a9cf0",
   "metadata": {},
   "outputs": [],
   "source": []
  },
  {
   "cell_type": "code",
   "execution_count": null,
   "id": "ce209ee3-cbf2-4732-accb-03ae036a19bb",
   "metadata": {},
   "outputs": [],
   "source": [
    "#Ans 5\n",
    "from math import sqrt\n",
    "\n",
    "def is_prime(n):\n",
    "    if (n <= 1):\n",
    "        return False\n",
    "    if (n == 2):\n",
    "        return True\n",
    "    if (n % 2 == 0):\n",
    "        return False\n",
    "\n",
    "    i = 3\n",
    "    while i <= sqrt(n):\n",
    "        if n % i == 0:\n",
    "            return False\n",
    "        i = i + 2\n",
    "\n",
    "    return True\n",
    "def prime_generator(limit=1000):\n",
    "    n = 2\n",
    "    while True:\n",
    "        if n<limit:\n",
    "            if is_prime(n):\n",
    "                yield n\n",
    "            n+=1\n",
    "        else:\n",
    "            break\n",
    "generator = prime_generator()\n",
    "\n",
    "for i in range(20):\n",
    "    print(next(generator))"
   ]
  },
  {
   "cell_type": "code",
   "execution_count": null,
   "id": "4b4cc108-038b-40a6-ad18-f4298d23cc3b",
   "metadata": {},
   "outputs": [],
   "source": []
  },
  {
   "cell_type": "code",
   "execution_count": null,
   "id": "92186da2-6c93-43db-bba9-c52204ee81da",
   "metadata": {},
   "outputs": [],
   "source": [
    "#Ans 6\n",
    "\n",
    "a=0\n",
    "b=1\n",
    "print(\"Fibonacii Series :- \",a,b,end=\" \")\n",
    "i=1\n",
    "while(i<=8):\n",
    "    c=a+b\n",
    "    print(c,end=\" \")\n",
    "    a=b\n",
    "    b=c\n",
    "    i+=1"
   ]
  },
  {
   "cell_type": "code",
   "execution_count": null,
   "id": "a2202356-e8d5-4436-b502-f64c9eed9259",
   "metadata": {},
   "outputs": [],
   "source": []
  },
  {
   "cell_type": "code",
   "execution_count": null,
   "id": "6e20025b-0959-4ce8-b0be-fcd7bd399b0a",
   "metadata": {},
   "outputs": [],
   "source": [
    "#Ans 7\n",
    "p=\"pwskills\"\n",
    "list=[i for i in p]\n",
    "print(list)"
   ]
  },
  {
   "cell_type": "code",
   "execution_count": null,
   "id": "3584bcc8-90c4-4f5e-a6f9-ac9001f40a8d",
   "metadata": {},
   "outputs": [],
   "source": []
  },
  {
   "cell_type": "code",
   "execution_count": null,
   "id": "3a266fb5-82dd-469b-ad8b-d5086322fbc5",
   "metadata": {},
   "outputs": [],
   "source": [
    "#Ans 8\n",
    "\n",
    "n = int(input(\"enter the value of n:\"))\n",
    "rev = 0\n",
    "digit= 0\n",
    "n1 = n\n",
    "\n",
    "\n",
    "while n>0:\n",
    "      digit = n%10\n",
    "      rev = rev*10+digit\n",
    "      n = int(n/10)\n",
    "print(\"reversed num=\", rev)\n",
    "if(n1 == rev):\n",
    "      print(\"num is palindrome\")\n",
    "else:\n",
    "      print(\"num is not palindrome\")\n"
   ]
  },
  {
   "cell_type": "code",
   "execution_count": null,
   "id": "660cf60e-2ff1-473d-b025-0c5b1c35fa38",
   "metadata": {},
   "outputs": [],
   "source": []
  },
  {
   "cell_type": "code",
   "execution_count": null,
   "id": "8c693864-90e9-4e3c-b829-6a0711b4f785",
   "metadata": {},
   "outputs": [],
   "source": [
    "#Ans 9\n",
    "#First Method\n",
    "l =[i for i in range(101) if i%2!=0]\n",
    "print(\"Odd numbers from 1 to 100 using list comprehension:- \",l)\n",
    "\n",
    "\n",
    "#Second Method\n",
    "l1=[i for i in range(1,101)]\n",
    "print(\"Odd numbers from 1 to 100 using list comprehension(Second Method):- \",list(filter(lambda x, : x % 2 != 0, l1)))"
   ]
  },
  {
   "cell_type": "code",
   "execution_count": null,
   "id": "51aab86c-d7b4-4762-9aea-33f468fdfa32",
   "metadata": {},
   "outputs": [],
   "source": []
  }
 ],
 "metadata": {
  "kernelspec": {
   "display_name": "Python 3 (ipykernel)",
   "language": "python",
   "name": "python3"
  },
  "language_info": {
   "codemirror_mode": {
    "name": "ipython",
    "version": 3
   },
   "file_extension": ".py",
   "mimetype": "text/x-python",
   "name": "python",
   "nbconvert_exporter": "python",
   "pygments_lexer": "ipython3",
   "version": "3.10.8"
  }
 },
 "nbformat": 4,
 "nbformat_minor": 5
}
